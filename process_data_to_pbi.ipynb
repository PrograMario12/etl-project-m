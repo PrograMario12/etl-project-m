{
 "cells": [
  {
   "cell_type": "code",
   "execution_count": 116,
   "metadata": {},
   "outputs": [],
   "source": [
    "import pandas as pd\n",
    "import psycopg2"
   ]
  },
  {
   "cell_type": "code",
   "execution_count": 117,
   "metadata": {},
   "outputs": [],
   "source": [
    "file_path = r'\\\\10.98.16.69\\dle\\Materiales'\n",
    "excel_name = 'EXPORT_20240806_213729.xlsx'\n",
    "\n",
    "file_path = file_path + '\\\\' + excel_name"
   ]
  },
  {
   "cell_type": "code",
   "execution_count": 118,
   "metadata": {},
   "outputs": [],
   "source": [
    "df = pd.read_excel(file_path, sheet_name = 'Data')"
   ]
  },
  {
   "cell_type": "code",
   "execution_count": 119,
   "metadata": {},
   "outputs": [
    {
     "name": "stdout",
     "output_type": "stream",
     "text": [
      "    Plant      Material               Material Description  Material Document  \\\n",
      "0  2311.0  230000011124  SCREW PT DELTA - 30 x 1.12 x 10MM       4.051103e+09   \n",
      "1  2311.0  230000051021           LEXAN 141R-703 GREY (PC)       4.051103e+09   \n",
      "2  2311.0  230000051021           LEXAN 141R-703 GREY (PC)       4.050876e+09   \n",
      "3  2311.0  230000051021           LEXAN 141R-703 GREY (PC)       4.049913e+09   \n",
      "4  2311.0  230000051029          MM ACRY V-825-461 Med Red       4.051103e+09   \n",
      "\n",
      "   Material Doc.Item  Movement Type  Qty in unit of entry Unit of Entry  \\\n",
      "0                2.0          552.0               5000.00            PC   \n",
      "1                9.0          551.0                -19.03            KG   \n",
      "2                2.0          552.0                399.91            KG   \n",
      "3                1.0          551.0                -50.00            KG   \n",
      "4                6.0          551.0                -32.83            KG   \n",
      "\n",
      "   Amt.in Loc.Cur. Currency Posting Date User Name Movement Type Text  \\\n",
      "0          2316.15      MXN   2024-08-03    AAGUAS       RE scrapping   \n",
      "1          -971.20      MXN   2024-08-03    AAGUAS       GI scrapping   \n",
      "2         20409.20      MXN   2024-08-02    AAGUAS       RE scrapping   \n",
      "3         -2551.75      MXN   2024-07-29    AAGUAS       GI scrapping   \n",
      "4         -2009.72      MXN   2024-08-03    AAGUAS       GI scrapping   \n",
      "\n",
      "  Trans. / Event Type      Local Entry Time  \n",
      "0                  WA  08/04/2024  04:33:35  \n",
      "1                  WA  08/04/2024  05:35:08  \n",
      "2                  WA  08/02/2024  16:15:35  \n",
      "3                  WA  07/29/2024  23:10:47  \n",
      "4                  WA  08/04/2024  05:35:08  \n"
     ]
    }
   ],
   "source": [
    "print(df.head())"
   ]
  },
  {
   "cell_type": "code",
   "execution_count": 120,
   "metadata": {},
   "outputs": [
    {
     "name": "stdout",
     "output_type": "stream",
     "text": [
      "       Material               Material Description  Material Document  \\\n",
      "0  230000011124  SCREW PT DELTA - 30 x 1.12 x 10MM       4.051103e+09   \n",
      "1  230000051021           LEXAN 141R-703 GREY (PC)       4.051103e+09   \n",
      "2  230000051021           LEXAN 141R-703 GREY (PC)       4.050876e+09   \n",
      "3  230000051021           LEXAN 141R-703 GREY (PC)       4.049913e+09   \n",
      "4  230000051029          MM ACRY V-825-461 Med Red       4.051103e+09   \n",
      "\n",
      "   Movement Type  Qty in unit of entry Unit of Entry      Local Entry Time  \n",
      "0          552.0               5000.00            PC  08/04/2024  04:33:35  \n",
      "1          551.0                -19.03            KG  08/04/2024  05:35:08  \n",
      "2          552.0                399.91            KG  08/02/2024  16:15:35  \n",
      "3          551.0                -50.00            KG  07/29/2024  23:10:47  \n",
      "4          551.0                -32.83            KG  08/04/2024  05:35:08  \n"
     ]
    }
   ],
   "source": [
    "# Lista de columnas a mantener\n",
    "columnas_a_mantener = ['Material', 'Material Description', 'Material Document', 'Movement Type', 'Qty in unit of entry', 'Unit of Entry', 'Local Entry Time']\n",
    "\n",
    "# Mantener solo las columnas especificadas en la lista\n",
    "df_cleaned = df[columnas_a_mantener]\n",
    "\n",
    "print(df_cleaned.head())"
   ]
  },
  {
   "cell_type": "code",
   "execution_count": 121,
   "metadata": {},
   "outputs": [
    {
     "name": "stdout",
     "output_type": "stream",
     "text": [
      "         Material                 Material Description Material Document  \\\n",
      "0    230000011124    SCREW PT DELTA - 30 x 1.12 x 10MM        4051102997   \n",
      "1    230000051021             LEXAN 141R-703 GREY (PC)        4051103061   \n",
      "2    230000051021             LEXAN 141R-703 GREY (PC)        4050876028   \n",
      "3    230000051021             LEXAN 141R-703 GREY (PC)        4049913467   \n",
      "4    230000051029            MM ACRY V-825-461 Med Red        4051103061   \n",
      "..            ...                                  ...               ...   \n",
      "195  230002249010  HOUSING SIDE REPEATERGOLF VW 370 LH        4050361334   \n",
      "196  230002249010  HOUSING SIDE REPEATERGOLF VW 370 LH        4050361260   \n",
      "197  230002249010  HOUSING SIDE REPEATERGOLF VW 370 LH        4050361332   \n",
      "198  230002249010  HOUSING SIDE REPEATERGOLF VW 370 LH        4050361267   \n",
      "199  230002249010  HOUSING SIDE REPEATERGOLF VW 370 LH        4050361268   \n",
      "\n",
      "    Movement Type Qty in unit of entry Unit of Entry    Local Entry Time  \n",
      "0             552               5000.0            PC 2024-08-04 04:33:35  \n",
      "1             551               -19.03            KG 2024-08-04 05:35:08  \n",
      "2             552               399.91            KG 2024-08-02 16:15:35  \n",
      "3             551                -50.0            KG 2024-07-29 23:10:47  \n",
      "4             551               -32.83            KG 2024-08-04 05:35:08  \n",
      "..            ...                  ...           ...                 ...  \n",
      "195           131                  1.0            PC 2024-07-31 18:46:19  \n",
      "196           131                  1.0            PC 2024-07-31 18:45:38  \n",
      "197           131                  1.0            PC 2024-07-31 18:46:19  \n",
      "198           131                  1.0            PC 2024-07-31 18:45:47  \n",
      "199           131                  1.0            PC 2024-07-31 18:45:47  \n",
      "\n",
      "[200 rows x 7 columns]\n",
      "Se eliminaron 3 filas.\n"
     ]
    }
   ],
   "source": [
    "# Eliminar filas donde todas las columnas son NaN\n",
    "df_cleaned = df_cleaned.dropna(how='all')\n",
    "\n",
    "# Eliminar filas con valores nulos en columnas críticas\n",
    "df_cleaned = df_cleaned.dropna(subset=['Material', 'Movement Type', 'Qty in unit of entry'])\n",
    "\n",
    "# Convertir tipos de datos si es necesario\n",
    "df_cleaned['Material'] = df_cleaned['Material'].astype(str)\n",
    "df_cleaned['Material Description'] = df_cleaned['Material Description'].astype(str)\n",
    "df_cleaned['Material Document'] = df_cleaned['Material Document'].astype(str).str.split('.').str[0]\n",
    "df_cleaned['Movement Type'] = df_cleaned['Movement Type'].astype(str).str.split('.').str[0]\n",
    "df_cleaned['Qty in unit of entry'] = df_cleaned['Qty in unit of entry'].astype(object)\n",
    "df_cleaned['Unit of Entry'] = df_cleaned['Unit of Entry'].astype(str)\n",
    "df_cleaned['Local Entry Time'] = pd.to_datetime(df_cleaned['Local Entry Time'])\n",
    "\n",
    "print(df_cleaned.head(200))\n",
    "# Calcular el número de filas eliminadas\n",
    "filas_eliminadas = len(df) - len(df_cleaned)\n",
    "print(f\"Se eliminaron {filas_eliminadas} filas.\")\n"
   ]
  },
  {
   "cell_type": "markdown",
   "metadata": {},
   "source": [
    "# Connect to the database"
   ]
  },
  {
   "cell_type": "code",
   "execution_count": 122,
   "metadata": {},
   "outputs": [],
   "source": [
    "import config\n",
    "conn = psycopg2.connect(\n",
    "    host = config.HOST,\n",
    "    database = config.DATABASE,\n",
    "    user = config.USER,\n",
    "    password = config.PASSWORD\n",
    ")\n"
   ]
  },
  {
   "cell_type": "code",
   "execution_count": 123,
   "metadata": {},
   "outputs": [],
   "source": [
    "cur = conn.cursor()\n",
    "\n",
    "for row in df_cleaned.itertuples(index=False):\n",
    "    cur.execute(\"INSERT INTO sch_pbi_bronze.tbl_materials_bronze(material, material_description, material_document, movement_type, qty_in_unit_of_entry, unit_of_entry, local_entry_time) VALUES (%s, %s, %s, %s, %s, %s, %s)\", row)\n",
    "\n",
    "conn.commit()"
   ]
  },
  {
   "cell_type": "code",
   "execution_count": 124,
   "metadata": {},
   "outputs": [],
   "source": [
    "cur.close()\n",
    "conn.close()"
   ]
  }
 ],
 "metadata": {
  "kernelspec": {
   "display_name": ".venv",
   "language": "python",
   "name": "python3"
  },
  "language_info": {
   "codemirror_mode": {
    "name": "ipython",
    "version": 3
   },
   "file_extension": ".py",
   "mimetype": "text/x-python",
   "name": "python",
   "nbconvert_exporter": "python",
   "pygments_lexer": "ipython3",
   "version": "3.12.3"
  }
 },
 "nbformat": 4,
 "nbformat_minor": 2
}
