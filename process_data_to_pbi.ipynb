{
 "cells": [
  {
   "cell_type": "code",
   "execution_count": 1,
   "metadata": {},
   "outputs": [],
   "source": [
    "import pandas as pd\n",
    "import psycopg2"
   ]
  },
  {
   "cell_type": "code",
   "execution_count": 2,
   "metadata": {},
   "outputs": [
    {
     "name": "stdout",
     "output_type": "stream",
     "text": [
      "La ruta del archivo es: \\\\10.98.16.69\\dle\\Materiales\\EXPORT_20241111_152749.xlsx\n"
     ]
    }
   ],
   "source": [
    "file_path = input(\"Por favor, introduce la ruta del archivo que se va a procesar: \")\n",
    "print(f\"La ruta del archivo es: {file_path}\")"
   ]
  },
  {
   "cell_type": "code",
   "execution_count": 5,
   "metadata": {},
   "outputs": [],
   "source": [
    "df = pd.read_excel(file_path, sheet_name = 'Data')"
   ]
  },
  {
   "cell_type": "code",
   "execution_count": 6,
   "metadata": {},
   "outputs": [
    {
     "name": "stdout",
     "output_type": "stream",
     "text": [
      "   Company Code   Plant      Material      Material Description  \\\n",
      "0        2310.0  2311.0  230000013012                VENT PATCH   \n",
      "1        2310.0  2311.0  230000013012                VENT PATCH   \n",
      "2        2310.0  2311.0  230000017004                PANEL CLIP   \n",
      "3        2310.0  2311.0  230000051021  LEXAN 141R-703 GREY (PC)   \n",
      "4        2310.0  2311.0  230000051021  LEXAN 141R-703 GREY (PC)   \n",
      "\n",
      "   Material Document External Delivery ID  Material Doc.Item Posting Date  \\\n",
      "0       4.069604e+09                  NaN                3.0   2024-10-23   \n",
      "1       4.069604e+09                  NaN                9.0   2024-10-23   \n",
      "2       4.072895e+09                  NaN                3.0   2024-11-06   \n",
      "3       4.073497e+09                  NaN                4.0   2024-11-08   \n",
      "4       4.073500e+09                  NaN                6.0   2024-11-08   \n",
      "\n",
      "   Storage Location  Movement Type  ...  Time of Entry      Local Entry Time  \\\n",
      "0             702.0          551.0  ...       16:20:32  10/23/2024  16:20:32   \n",
      "1             702.0          551.0  ...       16:20:32  10/23/2024  16:20:32   \n",
      "2             702.0          551.0  ...       18:39:30  11/06/2024  18:39:30   \n",
      "3             700.0          551.0  ...       19:14:45  11/08/2024  19:14:45   \n",
      "4             700.0          551.0  ...       19:21:19  11/08/2024  19:21:19   \n",
      "\n",
      "   User Name Currency Amt.in Loc.Cur.    Document Header Text Customer  \\\n",
      "0   MAYERODR      MXN         -591.08    linea 22 DJ 23.10.24      NaN   \n",
      "1   MAYERODR      MXN         -591.08    linea 22 DJ 23.10.24      NaN   \n",
      "2   MAYERODR      MXN           -8.66  LINEA 22 06.11.24 JULY      NaN   \n",
      "3   RAULNUNE      MXN         -175.65                  PURGAS      NaN   \n",
      "4   RAULNUNE      MXN          -23.54                  PURGAS      NaN   \n",
      "\n",
      "  Purchase order  Sales Order Cost Center  \n",
      "0            NaN          NaN  31100OH400  \n",
      "1            NaN          NaN  31100OH400  \n",
      "2            NaN          NaN  31100OH400  \n",
      "3            NaN          NaN  31100OH541  \n",
      "4            NaN          NaN  31100OH541  \n",
      "\n",
      "[5 rows x 24 columns]\n"
     ]
    }
   ],
   "source": [
    "print(df.head())"
   ]
  },
  {
   "cell_type": "markdown",
   "metadata": {},
   "source": [
    "# Connect to the database"
   ]
  },
  {
   "cell_type": "code",
   "execution_count": null,
   "metadata": {},
   "outputs": [],
   "source": []
  }
 ],
 "metadata": {
  "kernelspec": {
   "display_name": ".venv",
   "language": "python",
   "name": "python3"
  },
  "language_info": {
   "codemirror_mode": {
    "name": "ipython",
    "version": 3
   },
   "file_extension": ".py",
   "mimetype": "text/x-python",
   "name": "python",
   "nbconvert_exporter": "python",
   "pygments_lexer": "ipython3",
   "version": "3.12.3"
  }
 },
 "nbformat": 4,
 "nbformat_minor": 2
}
